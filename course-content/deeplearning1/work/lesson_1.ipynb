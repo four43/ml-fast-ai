{
 "cells": [
  {
   "cell_type": "markdown",
   "metadata": {},
   "source": [
    "# Lesson 1: Dogs vs. Cats\n",
    "Our first lesson!"
   ]
  },
  {
   "cell_type": "markdown",
   "metadata": {},
   "source": [
    "## Downloading Data\n",
    "Our data set can be found at `http://files.fast.ai/data/`. This will download and extract the data to a `./data/` directory in the same folder as this file."
   ]
  },
  {
   "cell_type": "code",
   "execution_count": 12,
   "metadata": {},
   "outputs": [
    {
     "name": "stdout",
     "output_type": "stream",
     "text": [
      "Already have data at /data/deeplearning1/work/data/dogscats\n"
     ]
    }
   ],
   "source": [
    "import zipfile\n",
    "import os\n",
    "import urllib\n",
    "import shutil\n",
    "from __future__ import print_function\n",
    "\n",
    "from os.path import join, realpath\n",
    "\n",
    "FILE_URL = \"http://files.fast.ai/data/dogscats.zip\"\n",
    "DOWNLOAD_FOLDER=join(realpath('.'), 'data')\n",
    "DOWNLOAD_PATH=join(DOWNLOAD_FOLDER, 'dogscats.zip')\n",
    "OUTPUT_FOLDER=join(DOWNLOAD_FOLDER, 'dogscats')\n",
    "\n",
    "if not os.path.exists(OUTPUT_FOLDER):\n",
    "    os.makedirs(DOWNLOAD_FOLDER)\n",
    "\n",
    "    # Download\n",
    "    try:\n",
    "        print(\"Downloading from {} ...\".format(FILE_URL))\n",
    "        urllib.urlretrieve(FILE_URL, DOWNLOAD_PATH)\n",
    "        print(\"Done!\")    \n",
    "    except Exception as err:\n",
    "        print(err)\n",
    "\n",
    "    # Unzip\n",
    "    print(\"Decompressing...\")\n",
    "\n",
    "    with zipfile.ZipFile(DOWNLOAD_PATH, 'r') as zip_ref:\n",
    "        zip_ref.extractall(DOWNLOAD_FOLDER)\n",
    "        zip_ref.close()\n",
    "    print(\"Done!\")\n",
    "    os.remove(DOWNLOAD_PATH)\n",
    "    print(\"Data available at \" + OUTPUT_FOLDER)\n",
    "else:\n",
    "    print(\"Already have data at \" + OUTPUT_FOLDER)"
   ]
  },
  {
   "cell_type": "code",
   "execution_count": null,
   "metadata": {},
   "outputs": [],
   "source": []
  }
 ],
 "metadata": {
  "kernelspec": {
   "display_name": "Python 2",
   "language": "python",
   "name": "python2"
  },
  "language_info": {
   "codemirror_mode": {
    "name": "ipython",
    "version": 2
   },
   "file_extension": ".py",
   "mimetype": "text/x-python",
   "name": "python",
   "nbconvert_exporter": "python",
   "pygments_lexer": "ipython2",
   "version": "2.7.14"
  }
 },
 "nbformat": 4,
 "nbformat_minor": 2
}
